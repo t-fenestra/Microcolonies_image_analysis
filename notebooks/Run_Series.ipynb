{
 "cells": [
  {
   "cell_type": "code",
   "execution_count": null,
   "id": "e73cde1d",
   "metadata": {
    "ExecuteTime": {
     "end_time": "2021-04-09T08:16:56.329003Z",
     "start_time": "2021-04-09T08:16:54.550867Z"
    }
   },
   "outputs": [],
   "source": [
    "import numpy as np\n",
    "import pandas as pd\n",
    "import matplotlib.pyplot as plt\n",
    "import os\n",
    "\n",
    "\n",
    "import skimage.io as io\n",
    "from skimage import util\n",
    "from skimage.filters import gaussian\n",
    "\n",
    "import warnings\n",
    "warnings.filterwarnings('ignore')\n",
    "from glob import glob\n",
    "\n",
    "\n",
    "\n",
    "import sys\n",
    "sys.path.append('../src/')\n",
    "import image_denosing\n",
    "import segmentation\n",
    "import img_diagnostic\n",
    "import measurements\n",
    "import tracking\n",
    "import viz_segmentation_video\n",
    "import viz_trajectories_to_video\n",
    "import anchor_points\n",
    "import viz_one_trajectory"
   ]
  },
  {
   "cell_type": "markdown",
   "id": "81f6291e",
   "metadata": {},
   "source": [
    "## Preparation \n",
    "### Create results folders"
   ]
  },
  {
   "cell_type": "code",
   "execution_count": null,
   "id": "850a912d",
   "metadata": {},
   "outputs": [],
   "source": [
    "os.mkdir(\"../results/anchor_area_csv\")\n",
    "os.mkdir(\"../results/anchor_area_projection_plot\")\n",
    "os.mkdir(\"../results/img_diagnostics\")\n",
    "os.mkdir(\"../results/video_one_trajectory\")\n",
    "os.mkdir(\"../results/video_trajectories\")\n",
    "os.mkdir(\"../results/measurements_csv/\")\n",
    "os.mkdir(\"../results/tracks_csv/\")\n",
    "os.mkdir(\"../results/video_segmentation/\")"
   ]
  },
  {
   "cell_type": "code",
   "execution_count": null,
   "id": "e68144ec",
   "metadata": {
    "tags": []
   },
   "outputs": [],
   "source": [
    "Diagnostic_images=[]\n",
    "\n",
    "\n",
    "\n",
    "for i in range(4,18):\n",
    "    \n",
    "    file_number=str(i).zfill(3)\n",
    "    file_name=\"../data/2021nov14_8ml_kb_wt_140X_2sec3min-{}_under_surface.tiff\".format(file_number)\n",
    "    \n",
    "    print(file_name)\n",
    "\n",
    "    # # background removal\n",
    "    images=io.imread(file_name)\n",
    "    images=util.img_as_float(images)\n",
    "    smoothed,background,denoised=image_denosing.run_image_denosing(images)\n",
    "\n",
    "    # write to the data folder\n",
    "    folder_to_save=os.path.split(file_name)[0]\n",
    "    file_prefix=os.path.split(file_name)[1].split('.')[0]\n",
    "    io.imsave(os.path.join(folder_to_save,file_prefix+\"_denoised.tif\"),denoised)\n",
    "\n",
    "\n",
    "#     # read\n",
    "#     folder_to_save=os.path.split(file_name)[0]\n",
    "#     file_prefix=os.path.split(file_name)[1].split('.')[0]\n",
    "#     denoised=io.imread(os.path.join(folder_to_save,file_prefix+\"_denoised.tif\"))\n",
    "\n",
    "\n",
    "    #segmentation\n",
    "    images_binary, threshold=segmentation.outsu_threshold(denoised)\n",
    "    dict_results=img_diagnostic.img_characteristrics(denoised,i,threshold,file_prefix)\n",
    "    io.imsave(os.path.join(folder_to_save,file_prefix+\"_segmented.tif\"),images_binary) # write to the data folder\n",
    "    Diagnostic_images.append(dict_results)\n",
    "    viz_segmentation_video.segmentation_check_video(images,denoised,images_binary,file_prefix)\n",
    "\n",
    "\n",
    "    # measurements\n",
    "    measurements_df=measurements.props_measurement(images_binary,denoised)\n",
    "    measurements_df=measurements_df[measurements_df[\"area\"]>25] # filter small objects\n",
    "    measurements_df.to_csv(os.path.join(\"../results/measurements_csv/\",file_prefix+\"_measurements.csv\"))\n",
    "\n",
    "\n",
    "    ## tracking\n",
    "    tracks=tracking.tracking(measurements_df,file_prefix)\n",
    "    tracks.to_csv(\"../results/tracks_csv/{}_Tracks.csv\".format(file_prefix))\n",
    "    viz_trajectories_to_video.trajectories_to_video(images_binary,tracks,\"../results/video_trajectories/\",file_prefix)\n",
    "\n",
    "    ## anchor points\n",
    "    anchor_df=anchor_points.plot_anchor_points(images_binary,tracks,file_prefix)\n",
    "    os.mkdir(\"../results/video_one_trajectory/\"+file_prefix)\n",
    "    for i in anchor_df[\"particle\"].values:\n",
    "        viz_one_trajectory.one_trajectory_viz(denoised,images_binary,tracks,file_prefix,i)\n",
    "    \n",
    "    Diagnostic_pd=pd.DataFrame(Diagnostic_images)\n",
    "    Diagnostic_pd.to_csv(\"../results/img_diagnostics/Series_image_diagnostic.csv\")    \n"
   ]
  },
  {
   "cell_type": "code",
   "execution_count": null,
   "id": "b0e7b12e",
   "metadata": {},
   "outputs": [],
   "source": []
  }
 ],
 "metadata": {
  "hide_input": false,
  "kernelspec": {
   "display_name": "Python 3",
   "language": "python",
   "name": "python3"
  },
  "language_info": {
   "codemirror_mode": {
    "name": "ipython",
    "version": 3
   },
   "file_extension": ".py",
   "mimetype": "text/x-python",
   "name": "python",
   "nbconvert_exporter": "python",
   "pygments_lexer": "ipython3",
   "version": "3.8.2"
  },
  "toc": {
   "base_numbering": 1,
   "nav_menu": {},
   "number_sections": true,
   "sideBar": true,
   "skip_h1_title": false,
   "title_cell": "Table of Contents",
   "title_sidebar": "Contents",
   "toc_cell": false,
   "toc_position": {},
   "toc_section_display": true,
   "toc_window_display": false
  },
  "varInspector": {
   "cols": {
    "lenName": 16,
    "lenType": 16,
    "lenVar": 40
   },
   "kernels_config": {
    "python": {
     "delete_cmd_postfix": "",
     "delete_cmd_prefix": "del ",
     "library": "var_list.py",
     "varRefreshCmd": "print(var_dic_list())"
    },
    "r": {
     "delete_cmd_postfix": ") ",
     "delete_cmd_prefix": "rm(",
     "library": "var_list.r",
     "varRefreshCmd": "cat(var_dic_list()) "
    }
   },
   "types_to_exclude": [
    "module",
    "function",
    "builtin_function_or_method",
    "instance",
    "_Feature"
   ],
   "window_display": false
  }
 },
 "nbformat": 4,
 "nbformat_minor": 5
}
