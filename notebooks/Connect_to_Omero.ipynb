{
 "cells": [
  {
   "cell_type": "markdown",
   "metadata": {},
   "source": [
    "## Task-list for the Omero\n",
    "1. access to the dataset by OmeroID\n",
    "2. extract chanell from multichanell file\n",
    "3. choose particular Z from Z-stack\n",
    "4. extract frames from T1 to T2\n",
    "  "
   ]
  },
  {
   "cell_type": "markdown",
   "metadata": {},
   "source": [
    "### Import Packages"
   ]
  },
  {
   "cell_type": "code",
   "execution_count": 1,
   "metadata": {
    "ExecuteTime": {
     "end_time": "2021-02-08T10:03:28.131597Z",
     "start_time": "2021-02-08T10:03:28.019267Z"
    }
   },
   "outputs": [
    {
     "name": "stderr",
     "output_type": "stream",
     "text": [
      "Matplotlib is building the font cache; this may take a moment.\n"
     ]
    }
   ],
   "source": [
    "from IPython import get_ipython\n",
    "from omero.gateway import BlitzGateway\n",
    "from omero.model import PlaneInfo\n",
    "import matplotlib.pyplot as plt\n",
    "from getpass import getpass\n",
    "import numpy as np"
   ]
  },
  {
   "cell_type": "markdown",
   "metadata": {},
   "source": [
    "### OMERO Credentials"
   ]
  },
  {
   "cell_type": "code",
   "execution_count": 2,
   "metadata": {
    "ExecuteTime": {
     "end_time": "2021-01-18T09:37:03.537081Z",
     "start_time": "2021-01-18T09:36:55.248823Z"
    }
   },
   "outputs": [
    {
     "name": "stdin",
     "output_type": "stream",
     "text": [
      "Username:  pichugina\n",
      "OMERO Password:  ········\n"
     ]
    },
    {
     "data": {
      "text/plain": [
       "True"
      ]
     },
     "execution_count": 2,
     "metadata": {},
     "output_type": "execute_result"
    }
   ],
   "source": [
    "HOST = 'ome.evolbio.mpg.de'\n",
    "conn = BlitzGateway(input(\"Username: \"),\n",
    "                    getpass(\"OMERO Password: \"),\n",
    "                    host=HOST, secure=True)\n",
    "conn.connect()"
   ]
  },
  {
   "cell_type": "markdown",
   "metadata": {},
   "source": [
    "### Connect to the data set"
   ]
  },
  {
   "cell_type": "code",
   "execution_count": null,
   "metadata": {},
   "outputs": [],
   "source": [
    "data_set_id=2222\n",
    "dataset = conn.getObject(\"Dataset\", data_set_id)\n",
    "\n",
    "print(dataset.getName(), dataset.getDescription())\n",
    "print(\"#=====================================================#\")\n",
    "\n",
    "## helper function ##\n",
    "def print_obj(obj, indent=0):\n",
    "    \"\"\"\n",
    "    Helper method to display info about OMERO objects.\n",
    "    Not all objects will have a \"name\" or owner field.\n",
    "    \"\"\"\n",
    "    print(\"\"\"%s%s:%s   \\n Name:\"%s\" (owner=%s)\"\"\" % (\n",
    "        \" \" * indent,\n",
    "        obj.OMERO_CLASS,\n",
    "        obj.getId(),\n",
    "        obj.getName(),\n",
    "        obj.getOwnerOmeName()))\n",
    "    print(\"Z={},Chanells={} Frames={}\".format(obj.getSizeZ(),obj.getSizeC(),obj.getSizeT()))\n",
    "    \n",
    "    size_x_obj = obj.getPixelSizeX(units=True)\n",
    "    print(\" Pixel Size X:\", size_x_obj.getValue(), \"(%s)\" % size_x_obj.getSymbol())\n",
    "    \n",
    "    \n",
    "    theC=obj.getSizeC()\n",
    "    planeInfo = obj.getPrimaryPixels().copyPlaneInfo(theC=theC, theZ=0, theT=1)\n",
    "    \n",
    "    for pi in planeInfo:\n",
    "        deltaT = pi.getDeltaT(units=\"SECOND\")\n",
    "        exposure = pi.getExposureTime(units=\"SECOND\")\n",
    "        if deltaT is not None:\n",
    "            print('deltaT secs', deltaT.getValue())\n",
    "        if exposure is not None:\n",
    "            print('exposure secs', exposure.getValue())\n",
    "    print(\"#=====================================================#\")\n",
    "\n",
    "def show_plane(obj,frame):\n",
    "    pixels = obj.getPrimaryPixels()\n",
    "    plane = pixels.getPlane(0, 0, frame) \n",
    "    fig,ax=plt.subplots(figsize=(20,20))\n",
    "    ax.set_title(obj.getName())\n",
    "    ax.imshow(plane,vmin=np.quantile(plane,0.02),vmax=np.quantile(plane,0.98),cmap='gray')\n",
    "    \n",
    "for image in dataset.listChildren():\n",
    "    print_obj(image, 4)\n",
    "    show_plane(image,20)\n",
    "    "
   ]
  },
  {
   "cell_type": "markdown",
   "metadata": {},
   "source": [
    "### OMERO Image ID"
   ]
  },
  {
   "cell_type": "code",
   "execution_count": null,
   "metadata": {
    "ExecuteTime": {
     "end_time": "2021-01-18T09:37:07.915425Z",
     "start_time": "2021-01-18T09:37:07.912848Z"
    }
   },
   "outputs": [],
   "source": [
    "# To be modified\n",
    "# ex: Select an Image from the dataset named 'PTRE' and enter its Id\n",
    "image_id =2405691\n",
    "image = conn.getObject(\"Image\", image_id)\n",
    "\n",
    "print(image.getName(), image.getDescription())\n",
    "print(\"Z={},Chanells={} Frames={}\".format(image.getSizeZ(),image.getSizeC(),image.getSizeT()))\n",
    "\n",
    "print(\"Chanel\")\n",
    "for i, ch in enumerate(image.getChannels()):\n",
    "    print(ch.getLabel())\n",
    "    # Return as output. Key is string, value is rtype"
   ]
  },
  {
   "cell_type": "code",
   "execution_count": null,
   "metadata": {},
   "outputs": [],
   "source": [
    "#plane = pixels.getPlane(z, c, t) \n",
    "pixels = image.getPrimaryPixels()\n",
    "plane = pixels.getPlane(0, 0, 20) \n",
    "\n",
    "fig,ax=plt.subplots(figsize=(20,20))\n",
    "ax.imshow(plane,vmin=np.quantile(plane,0.02),vmax=np.quantile(plane,0.98))"
   ]
  },
  {
   "cell_type": "markdown",
   "metadata": {},
   "source": [
    "### Retrieve imagestack"
   ]
  },
  {
   "cell_type": "code",
   "execution_count": null,
   "metadata": {},
   "outputs": [],
   "source": [
    "# Get a T-stack of tiles. Using getTiles or getPlanes (see below) returns\n",
    "# a generator of data (not all the data in hand) The RawPixelsStore is\n",
    "# only opened once (not closed after each plane) Alternative is to use\n",
    "# getPlane() or getTile() multiple times - slightly slower.\n",
    "c, z = 0, 0                 # First channel and timepoint\n",
    "size_t=image.getSizeT()\n",
    "plane = pixels.getPlane(0, 0, 0) \n",
    "tile = (0, 0, plane.shape[1], plane.shape[0])     # x, y, width, height of tile\n",
    "\n",
    "# list of [ (0,0,0,(x,y,w,h)), (1,0,0,(x,y,w,h)), (2,0,0,(x,y,w,h))... ]\n",
    "zct_list = [(z, c, t, tile) for t in range(size_t)]\n",
    "print(\"\\nZ stack of tiles:\")\n",
    "planes = pixels.getTiles(zct_list)\n",
    "for i, p in enumerate(planes):\n",
    "    print(\"Tile:\", zct_list[i], \" min:\", p.min(),\\\n",
    "        \" max:\", p.max(), \" sum:\", p.sum())"
   ]
  },
  {
   "cell_type": "markdown",
   "metadata": {},
   "source": [
    "### Close the connection to the OMERO server"
   ]
  },
  {
   "cell_type": "code",
   "execution_count": null,
   "metadata": {
    "ExecuteTime": {
     "end_time": "2021-01-11T10:00:28.799531Z",
     "start_time": "2021-01-11T10:00:28.595950Z"
    }
   },
   "outputs": [],
   "source": [
    "conn.close()"
   ]
  },
  {
   "cell_type": "markdown",
   "metadata": {},
   "source": [
    "### License\n",
    "Copyright (C) 2019 University of Dundee. All Rights Reserved.\n",
    "This program is free software; you can redistribute it and/or modify it\n",
    "under the terms of the GNU General Public License as published by the\n",
    "Free Software Foundation; either version 2 of the License, or\n",
    "(at your option) any later version.\n",
    "This program is distributed in the hope that it will be useful, but\n",
    "WITHOUT ANY WARRANTY; without even the implied warranty of MERCHANTABILITY\n",
    "or FITNESS FOR A PARTICULAR PURPOSE. See the GNU General Public License for\n",
    "more details. You should have received a copy of the GNU General\n",
    "Public License along with this program; if not, write to the\n",
    "Free Software Foundation,\n",
    "Inc., 51 Franklin Street, Fifth Floor, Boston, MA 02110-1301 USA."
   ]
  }
 ],
 "metadata": {
  "hide_input": false,
  "kernelspec": {
   "display_name": "Python 3",
   "language": "python",
   "name": "python3"
  },
  "language_info": {
   "codemirror_mode": {
    "name": "ipython",
    "version": 3
   },
   "file_extension": ".py",
   "mimetype": "text/x-python",
   "name": "python",
   "nbconvert_exporter": "python",
   "pygments_lexer": "ipython3",
   "version": "3.8.5"
  },
  "toc": {
   "base_numbering": 1,
   "nav_menu": {},
   "number_sections": true,
   "sideBar": true,
   "skip_h1_title": false,
   "title_cell": "Table of Contents",
   "title_sidebar": "Contents",
   "toc_cell": false,
   "toc_position": {},
   "toc_section_display": true,
   "toc_window_display": false
  },
  "varInspector": {
   "cols": {
    "lenName": 16,
    "lenType": 16,
    "lenVar": 40
   },
   "kernels_config": {
    "python": {
     "delete_cmd_postfix": "",
     "delete_cmd_prefix": "del ",
     "library": "var_list.py",
     "varRefreshCmd": "print(var_dic_list())"
    },
    "r": {
     "delete_cmd_postfix": ") ",
     "delete_cmd_prefix": "rm(",
     "library": "var_list.r",
     "varRefreshCmd": "cat(var_dic_list()) "
    }
   },
   "types_to_exclude": [
    "module",
    "function",
    "builtin_function_or_method",
    "instance",
    "_Feature"
   ],
   "window_display": false
  }
 },
 "nbformat": 4,
 "nbformat_minor": 4
}
