{
 "cells": [
  {
   "cell_type": "code",
   "execution_count": null,
   "id": "33215495",
   "metadata": {},
   "outputs": [],
   "source": [
    "import numpy as np\n",
    "import pandas as pd\n",
    "import matplotlib.pyplot as plt\n",
    "import os\n",
    "\n",
    "\n",
    "import skimage.io as io\n",
    "from skimage import util\n",
    "from skimage.filters import gaussian\n",
    "\n",
    "import warnings\n",
    "warnings.filterwarnings('ignore')\n",
    "from glob import glob\n",
    "\n",
    "\n",
    "\n",
    "import sys\n",
    "sys.path.append('../src/')\n",
    "import image_denosing\n",
    "import segmentation\n",
    "import img_diagnostic\n",
    "import measurements\n",
    "import tracking\n",
    "import viz_segmentation_video\n",
    "import viz_trajectories_to_video\n",
    "import anchor_points\n",
    "import viz_one_trajectory"
   ]
  },
  {
   "cell_type": "markdown",
   "id": "676eb40e",
   "metadata": {},
   "source": [
    "## Original data"
   ]
  },
  {
   "cell_type": "code",
   "execution_count": null,
   "id": "172f8aaf",
   "metadata": {},
   "outputs": [],
   "source": [
    "Diagnostic_images=pd.DataFrame()\n",
    "\n",
    "\n",
    "\n",
    "for i in range(1,21):\n",
    "    \n",
    "    file_number=str(i).zfill(2)\n",
    "    file_name=\"../data/2021August8_after12h_wt_140X_2sec3min_-{}.czi [Scene #1].tif\".format(file_number)\n",
    "\n",
    "    orig=io.imread(file_name)\n",
    "\n",
    "    print(file_name)\n",
    "    # read\n",
    "    folder_to_save=os.path.split(file_name)[0]\n",
    "    file_prefix=os.path.split(file_name)[1].split('.')[0]\n",
    "    \n",
    "    #segmentation\n",
    "    images_binary, threshold=segmentation.outsu_threshold(orig)\n",
    "\n",
    "    df_results=img_diagnostic.img_characteristrics(orig,i,threshold,file_prefix)\n",
    "    Diagnostic_images=pd.concat([Diagnostic_images,df_results])\n",
    "\n",
    "Diagnostic_images.to_csv(\"../results/img_diagnostics/Series_image_diagnostic_orig.csv\")    \n"
   ]
  },
  {
   "cell_type": "markdown",
   "id": "f06c9a23",
   "metadata": {},
   "source": [
    "## Denoised"
   ]
  },
  {
   "cell_type": "code",
   "execution_count": null,
   "id": "3421d91c",
   "metadata": {},
   "outputs": [],
   "source": [
    "Diagnostic_images=pd.DataFrame()\n",
    "\n",
    "\n",
    "\n",
    "for i in range(1,21):\n",
    "    \n",
    "    file_number=str(i).zfill(2)\n",
    "    file_name=\"../data/2021August8_after12h_wt_140X_2sec3min_-{}.czi [Scene #1].tif\".format(file_number)\n",
    "    \n",
    "    print(file_name)\n",
    "    # read\n",
    "    folder_to_save=os.path.split(file_name)[0]\n",
    "    file_prefix=os.path.split(file_name)[1].split('.')[0]\n",
    "\n",
    "    denoised=io.imread(os.path.join(folder_to_save,file_prefix+\"_denoised.tif\"))\n",
    "\n",
    "\n",
    "    #segmentation\n",
    "    images_binary, threshold=segmentation.outsu_threshold(denoised)\n",
    "\n",
    "    df_results=img_diagnostic.img_characteristrics(denoised,i,threshold,file_prefix)\n",
    "    Diagnostic_images=pd.concat([Diagnostic_images,df_results])\n",
    "\n",
    "Diagnostic_images.to_csv(\"../results/img_diagnostics/Series_image_diagnostic.csv\")    \n"
   ]
  },
  {
   "cell_type": "code",
   "execution_count": null,
   "id": "8969e025",
   "metadata": {},
   "outputs": [],
   "source": [
    "Diagnostic_images.to_csv(\"../results/img_diagnostics/Series_image_diagnostic.csv\")    "
   ]
  },
  {
   "cell_type": "code",
   "execution_count": null,
   "id": "b2221dab",
   "metadata": {},
   "outputs": [],
   "source": []
  }
 ],
 "metadata": {
  "kernelspec": {
   "display_name": "Python 3",
   "language": "python",
   "name": "python3"
  },
  "language_info": {
   "codemirror_mode": {
    "name": "ipython",
    "version": 3
   },
   "file_extension": ".py",
   "mimetype": "text/x-python",
   "name": "python",
   "nbconvert_exporter": "python",
   "pygments_lexer": "ipython3",
   "version": "3.8.2"
  }
 },
 "nbformat": 4,
 "nbformat_minor": 5
}
