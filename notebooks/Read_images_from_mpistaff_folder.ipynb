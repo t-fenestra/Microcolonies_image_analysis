{
 "cells": [
  {
   "cell_type": "code",
   "execution_count": null,
   "id": "91e8069f",
   "metadata": {},
   "outputs": [],
   "source": [
    "import numpy as np\n",
    "import pandas as pd\n",
    "import matplotlib.pyplot as plt\n",
    "import os\n",
    "\n",
    "\n",
    "import skimage.io as io\n",
    "from skimage import util\n",
    "from skimage.filters import gaussian\n",
    "\n",
    "import warnings\n",
    "warnings.filterwarnings('ignore')\n",
    "from glob import glob\n",
    "import czifile\n",
    "\n",
    "\n",
    "import sys\n",
    "sys.path.append('../src/')\n",
    "import image_denosing\n",
    "import segmentation\n",
    "import img_diagnostic\n",
    "import measurements\n",
    "import tracking\n",
    "import viz_segmentation_video\n",
    "import viz_trajectories_to_video\n",
    "import anchor_points\n",
    "import viz_one_trajectory"
   ]
  },
  {
   "cell_type": "code",
   "execution_count": null,
   "id": "1c67b15e",
   "metadata": {},
   "outputs": [],
   "source": [
    "folder=\"/groups/mpistaff/Elisa/microcolonies/2021-11-15\"\n",
    "file_list=glob(\"/groups//mpistaff/Elisa/microcolonies/2021-11-15/*.czi\")\n",
    "print(file_list)"
   ]
  },
  {
   "cell_type": "markdown",
   "id": "845f47da",
   "metadata": {},
   "source": [
    "## Get metadata"
   ]
  },
  {
   "cell_type": "code",
   "execution_count": null,
   "id": "8cce86b3",
   "metadata": {},
   "outputs": [],
   "source": [
    "file_name=\"/home/pichugina/mnt/mpistaff/Elisa/microcolonies/2021-11-15/2021nov14_8ml_kb_wt_140X_2sec3min-011.czi\"\n",
    "from skimage import io\n",
    "\n",
    "img = czifile.imread(file_name)\n",
    "print(\"Scene={},T={},C={},X={},Y={},Z={}\".format(img.shape[0],img.shape[1],img.shape[2],img.shape[3],img.shape[4],img.shape[5]))\n",
    "\n",
    "img_surface=img[0,:,0,:,:,0]\n",
    "img_under_surface=img[1,:,0,:,:,0]\n",
    "\n",
    "\n",
    "czif = czifile.CziFile(file_name)\n",
    "metadata_dict = czif.metadata(raw=False)\n",
    "print(metadata_dict)\n",
    "\n",
    "import yaml\n",
    "with open(\"czi_header.yml\", \"w\") as f:\n",
    "        yaml.dump(metadata_dict, f)"
   ]
  },
  {
   "cell_type": "code",
   "execution_count": null,
   "id": "f44e6d98-f28f-41ab-8eac-496e7b35fd9a",
   "metadata": {},
   "outputs": [],
   "source": [
    "#os.mkdir(\"experiments\")\n",
    "os.mkdir(\"/experiments/2021-11-15/\")\n"
   ]
  },
  {
   "cell_type": "markdown",
   "id": "6b0f2d77",
   "metadata": {},
   "source": [
    "## Save to the remote mashine"
   ]
  },
  {
   "cell_type": "code",
   "execution_count": null,
   "id": "9943d521-7408-4a2f-a5b5-1b7b328b38fd",
   "metadata": {},
   "outputs": [],
   "source": [
    "os.mkdir(\"../experiments/2021-11-15/data\")"
   ]
  },
  {
   "cell_type": "code",
   "execution_count": null,
   "id": "b60c4f4d",
   "metadata": {},
   "outputs": [],
   "source": [
    "folder_to_save=\"../experiments/2021-11-15/data/\"\n",
    "\n",
    "for file_name in file_list:\n",
    "    img = czifile.imread(file_name)\n",
    "    print(\"Scene={},T={},C={},X={},Y={},Z={}\".format(img.shape[0],img.shape[1],img.shape[2],img.shape[3],img.shape[4],img.shape[5]))\n",
    "    \n",
    "    # surface\n",
    "    img_surface=img[0,:,0,:,:,0]\n",
    "    file_name_surface=file_name.split('/')[-1].split(\".czi\")[0]+\"_surface\"+\".tiff\"\n",
    "    io.imsave(folder_to_save+file_name_surface,img_surface)\n",
    "    \n",
    "    # under surface\n",
    "    img_under_surface=img[1,:,0,:,:,0]\n",
    "    file_name_under_surface=file_name.split('/')[-1].split(\".czi\")[0]+\"_under_surface\"+\".tiff\"\n",
    "    io.imsave(folder_to_save+file_name_under_surface,img_under_surface)"
   ]
  },
  {
   "cell_type": "code",
   "execution_count": null,
   "id": "6322c004-60e6-44ea-a0db-d30efef15a68",
   "metadata": {},
   "outputs": [],
   "source": []
  }
 ],
 "metadata": {
  "kernelspec": {
   "display_name": "Python 3 (ipykernel)",
   "language": "python",
   "name": "python3"
  },
  "language_info": {
   "codemirror_mode": {
    "name": "ipython",
    "version": 3
   },
   "file_extension": ".py",
   "mimetype": "text/x-python",
   "name": "python",
   "nbconvert_exporter": "python",
   "pygments_lexer": "ipython3",
   "version": "3.8.12"
  }
 },
 "nbformat": 4,
 "nbformat_minor": 5
}
